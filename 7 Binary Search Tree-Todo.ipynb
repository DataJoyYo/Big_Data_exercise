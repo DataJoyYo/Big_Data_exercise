{
 "cells": [
  {
   "cell_type": "markdown",
   "metadata": {},
   "source": [
    "Animation: https://www.cs.usfca.edu/~galles/visualization/BST.html"
   ]
  },
  {
   "cell_type": "code",
   "execution_count": 1,
   "metadata": {},
   "outputs": [],
   "source": [
    "class Node:\n",
    "    \"\"\"\n",
    "    Tree node with left and right child and data\n",
    "    \"\"\"\n",
    "    def __init__(self, data):\n",
    "        # TODO\n",
    "        self.data = data\n",
    "        self.right = None\n",
    "        self.left = None\n",
    "        self.p = None\n",
    "        "
   ]
  },
  {
   "cell_type": "code",
   "execution_count": 2,
   "metadata": {},
   "outputs": [],
   "source": [
    "class Tree:\n",
    "    def __init__(self):\n",
    "        \"\"\"Create an empty binary search tree\"\"\"\n",
    "        # TODO\n",
    "        self.root = None\n",
    "        self.bitList = []\n",
    "            \n",
    "    def insert(self, item):\n",
    "        \"\"\"Add an item in the binary search tree\"\"\"\n",
    "        # TODO\n",
    "        if not isinstance(item,Node):\n",
    "            item = Node(item)\n",
    "        if self.root is None:\n",
    "            self.root = item\n",
    "            self.bitList.append(item)\n",
    "        else:\n",
    "            rootNode = self.bitList[0]\n",
    "            while True:\n",
    "                if item.data < rootNode.data:\n",
    "                    if rootNode.left == None:\n",
    "                        rootNode.left = item\n",
    "                        self.bitList.append(item)\n",
    "                        break\n",
    "                    else:\n",
    "                        rootNode = rootNode.left\n",
    "                elif item.data > rootNode.data:\n",
    "                    if rootNode.right == None:\n",
    "                        rootNode.right = item\n",
    "                        self.bitList.append(item)\n",
    "                        break\n",
    "                else:\n",
    "                    rootNode = rootNode.right\n",
    "        \n",
    "    \n",
    "    def find(self, item):\n",
    "        \"\"\"Returns true if item is in the tree or false otherwise\"\"\"\n",
    "        # TODO\n",
    "        if self.item == item:\n",
    "            return True \n",
    "        elif self.item < item:\n",
    "            if self.right == None:\n",
    "                return False\n",
    "            else:\n",
    "                return True\n",
    "        else:\n",
    "            if self.left == None:\n",
    "                return False\n",
    "            else: \n",
    "                return True\n",
    "        "
   ]
  },
  {
   "cell_type": "code",
   "execution_count": 3,
   "metadata": {},
   "outputs": [],
   "source": [
    "tree = Tree()"
   ]
  },
  {
   "cell_type": "code",
   "execution_count": null,
   "metadata": {},
   "outputs": [],
   "source": [
    "tree.insert(30)\n",
    "tree.insert(5)\n",
    "tree.insert(50)\n",
    "tree.insert(8)\n",
    "tree.insert(3)\n",
    "tree.insert(100)\n",
    "tree.insert(40)"
   ]
  },
  {
   "cell_type": "code",
   "execution_count": null,
   "metadata": {},
   "outputs": [],
   "source": [
    "tree.find(8)"
   ]
  },
  {
   "cell_type": "code",
   "execution_count": null,
   "metadata": {},
   "outputs": [],
   "source": [
    "tree.find(9)"
   ]
  },
  {
   "cell_type": "markdown",
   "metadata": {},
   "source": [
    "## Why is the worst case time complexity of the find method only $O(n)$ and not $O(log n)$?"
   ]
  },
  {
   "cell_type": "code",
   "execution_count": null,
   "metadata": {},
   "outputs": [],
   "source": [
    "#Because in the worst case, we need go through once for each depth until the end of the tree where n represents the height of the tree."
   ]
  },
  {
   "cell_type": "code",
   "execution_count": null,
   "metadata": {},
   "outputs": [],
   "source": [
    "#reference:\n",
    "#https://stackoverflow.com/questions/49890481/write-a-function-that-checks-if-a-given-binary-search-tree-contains-a-given-valu\n",
    "#https://zhuanlan.zhihu.com/p/67018558"
   ]
  }
 ],
 "metadata": {
  "kernelspec": {
   "display_name": "Python 3",
   "language": "python",
   "name": "python3"
  },
  "language_info": {
   "codemirror_mode": {
    "name": "ipython",
    "version": 3
   },
   "file_extension": ".py",
   "mimetype": "text/x-python",
   "name": "python",
   "nbconvert_exporter": "python",
   "pygments_lexer": "ipython3",
   "version": "3.7.6"
  },
  "varInspector": {
   "cols": {
    "lenName": 16,
    "lenType": 16,
    "lenVar": 40
   },
   "kernels_config": {
    "python": {
     "delete_cmd_postfix": "",
     "delete_cmd_prefix": "del ",
     "library": "var_list.py",
     "varRefreshCmd": "print(var_dic_list())"
    },
    "r": {
     "delete_cmd_postfix": ") ",
     "delete_cmd_prefix": "rm(",
     "library": "var_list.r",
     "varRefreshCmd": "cat(var_dic_list()) "
    }
   },
   "types_to_exclude": [
    "module",
    "function",
    "builtin_function_or_method",
    "instance",
    "_Feature"
   ],
   "window_display": false
  }
 },
 "nbformat": 4,
 "nbformat_minor": 2
}
